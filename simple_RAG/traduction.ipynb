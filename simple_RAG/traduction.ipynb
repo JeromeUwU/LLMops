{
 "cells": [
  {
   "cell_type": "code",
   "execution_count": 2,
   "metadata": {},
   "outputs": [],
   "source": [
    "import os\n",
    "from langchain_community.document_loaders import TextLoader\n",
    "from langchain_community.document_loaders import PyPDFLoader\n",
    "from langchain_text_splitters import RecursiveCharacterTextSplitter\n",
    "from langchain_community.embeddings import OllamaEmbeddings\n",
    "from langchain_community.vectorstores import Chroma, FAISS\n",
    "from langchain_community.llms import Ollama \n",
    "from langchain_core.prompts import ChatPromptTemplate\n",
    "from langchain.chains.combine_documents import create_stuff_documents_chain\n",
    "from langchain.chains import create_retrieval_chain"
   ]
  },
  {
   "cell_type": "code",
   "execution_count": 4,
   "metadata": {},
   "outputs": [],
   "source": [
    "loader = PyPDFLoader(\"mg_pdf.pdf\")\n",
    "pdf_doc = loader.load()\n"
   ]
  },
  {
   "cell_type": "code",
   "execution_count": 12,
   "metadata": {},
   "outputs": [],
   "source": [
    "txt_split =  RecursiveCharacterTextSplitter(chunk_size = 1000,chunk_overlap = 200)\n",
    "doc_split = txt_split.split_documents(pdf_doc)\n"
   ]
  },
  {
   "cell_type": "code",
   "execution_count": 15,
   "metadata": {},
   "outputs": [],
   "source": [
    "db1 = FAISS.from_documents(doc_split[:30],OllamaEmbeddings(model=\"llama3.1\"))"
   ]
  },
  {
   "cell_type": "code",
   "execution_count": 19,
   "metadata": {},
   "outputs": [
    {
     "data": {
      "text/plain": [
       "\"Accord ministériel reçu  Fahazahoana ny fankatoavan'ny \\nMinisitra  \\nAccord multilatéral   Fifanarahana maro lafy  \\nAccord préalable  Fanekena  mialoha, fifanekena \\nmialoha  \\nAccord subsidiaire  Fifanekena lefitra  \\nAccord -cadre   Fifanarahana lasitra  \\nAccréditation  Fanomezam -pahefana  \\nAccréditer  Manome fahefana, manendry \\nmasoivoho, manendry \\n(ambasadaoro)  \\nAccroissement  Fitomboana fanitarana, fihitarana, \\nfampitomboana  \\nAccroissement de capital  Fitomboan'ny renivola  \\nAccroître  Mampit ombo, manitatra  \\nAccroupie  Mitalapetraka, mitorovoka  \\nAccumulateur (véhicule)  Tobin'aratra(fiarakodia), \\nmpanangona araka aratra\""
      ]
     },
     "execution_count": 19,
     "metadata": {},
     "output_type": "execute_result"
    }
   ],
   "source": [
    "query =  \"Give me the traduction of Accréditation from francais to malgache\"\n",
    "res = db1.similarity_search(query)\n",
    "res[0].page_content"
   ]
  },
  {
   "cell_type": "code",
   "execution_count": 34,
   "metadata": {},
   "outputs": [],
   "source": [
    "llm = Ollama(model='llama3.1')\n",
    "prompt = ChatPromptTemplate.from_template(\"\"\" Find The Best Traduction from french to malagasy\n",
    "or Malagasy to French based on the user word from the context only.\n",
    "<context>\n",
    "{context}\n",
    "Word : {input} \"\"\")"
   ]
  },
  {
   "cell_type": "code",
   "execution_count": 35,
   "metadata": {},
   "outputs": [],
   "source": [
    "doc_chain  = create_stuff_documents_chain(llm,prompt)\n",
    "retriever = db1.as_retriever()\n",
    "retriever_chain = create_retrieval_chain(retriever,doc_chain)"
   ]
  },
  {
   "cell_type": "code",
   "execution_count": 36,
   "metadata": {},
   "outputs": [],
   "source": [
    "res = retriever_chain.invoke({\"input\" : \"Bonjour\"})\n"
   ]
  },
  {
   "cell_type": "code",
   "execution_count": 37,
   "metadata": {},
   "outputs": [
    {
     "name": "stdout",
     "output_type": "stream",
     "text": [
      "Le traduction de \"Bonjour\" du français vers le malagasy est :\n",
      "\n",
      "* Salama\n",
      "\n",
      "Notez que j'ai utilisé l'outil de traduction automatique et que la traduction peut varier en fonction du contexte. Dans ce cas, je me suis basé sur le contexte du livre qui décrit un dictionnaire de traduction français-malgache, donc j'ai choisi une traduction courante et familière dans les deux langues.\n",
      "\n",
      "Si vous voulez savoir la traduction du mot \"Bonjour\" du malagasy vers le français, je réponds :\n",
      "\n",
      "* Bonjour\n",
      "\n",
      "ou\n",
      "\n",
      "* Salama (dans un contexte familier)\n",
      "\n",
      "Notez que le mot \"Salama\" est souvent utilisé pour saluer dans les deux langues, mais il peut avoir des connotations légèrement différentes en fonction du contexte.\n"
     ]
    }
   ],
   "source": [
    "print(res['answer'])"
   ]
  },
  {
   "cell_type": "code",
   "execution_count": 38,
   "metadata": {},
   "outputs": [
    {
     "name": "stdout",
     "output_type": "stream",
     "text": [
      "Le traduction de \"Bonjour\" du français vers le malagasy est :\n",
      "- Salama\n",
      "Notez que j'ai utilisé l'outil de traduction automatique et que la traduction peut varier en fonction du contexte. Dans ce cas, je me suis basé sur le contexte du livre qui décrit un dictionnaire de traduction français-malgache, donc j'ai choisi une traduction courante et familière dans les deux langues.\n",
      "Si vous voulez savoir la traduction du mot \"Bonjour\" du malagasy vers le français, je réponds :\n",
      "- Bonjour\n",
      "ou\n",
      "- Salama (dans un contexte familier)\n",
      "Notez que le mot \"Salama\" est souvent utilisé pour saluer dans les deux langues, mais il peut avoir des connotations légèrement différentes en fonction du contexte.\n"
     ]
    }
   ],
   "source": [
    "print(res['answer'].replace(\"\\n\\n\", \"\\n\").replace(\"**\", \"\").replace(\"* \", \"- \"))\n"
   ]
  },
  {
   "cell_type": "code",
   "execution_count": null,
   "metadata": {},
   "outputs": [],
   "source": []
  }
 ],
 "metadata": {
  "kernelspec": {
   "display_name": "langchainapp",
   "language": "python",
   "name": "python3"
  },
  "language_info": {
   "codemirror_mode": {
    "name": "ipython",
    "version": 3
   },
   "file_extension": ".py",
   "mimetype": "text/x-python",
   "name": "python",
   "nbconvert_exporter": "python",
   "pygments_lexer": "ipython3",
   "version": "3.11.4"
  }
 },
 "nbformat": 4,
 "nbformat_minor": 2
}

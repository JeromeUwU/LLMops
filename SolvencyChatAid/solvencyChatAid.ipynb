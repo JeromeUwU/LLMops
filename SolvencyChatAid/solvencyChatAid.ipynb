{
 "cells": [
  {
   "cell_type": "code",
   "execution_count": 99,
   "metadata": {},
   "outputs": [],
   "source": [
    "import numpy as np\n",
    "import os\n",
    "from langchain_community.document_loaders import PyPDFLoader\n",
    "from langchain_community.document_loaders import PyPDFDirectoryLoader\n",
    "from langchain_text_splitters import RecursiveCharacterTextSplitter\n",
    "from langchain_community.vectorstores import Chroma, FAISS\n",
    "\n",
    "from langchain_community.embeddings import OllamaEmbeddings\n",
    "from langchain_community.llms import Ollama \n",
    "from langchain.prompts import PromptTemplate\n",
    "\n",
    "from langchain.chains import RetrievalQA"
   ]
  },
  {
   "cell_type": "code",
   "execution_count": 116,
   "metadata": {},
   "outputs": [
    {
     "name": "stdout",
     "output_type": "stream",
     "text": [
      "736\n"
     ]
    }
   ],
   "source": [
    "loader = PyPDFDirectoryLoader(\"./solvencypdf/\")\n",
    "documents = loader.load()\n",
    "text_splitter = RecursiveCharacterTextSplitter(chunk_size = 1000,chunk_overlap = 200)\n",
    "final_documents = text_splitter.split_documents(documents)\n",
    "print(len(final_documents))"
   ]
  },
  {
   "cell_type": "code",
   "execution_count": 118,
   "metadata": {},
   "outputs": [],
   "source": [
    "vectorestore = FAISS.from_documents(final_documents[:120],OllamaEmbeddings(model=\"llama3.1\"))\n"
   ]
  },
  {
   "cell_type": "code",
   "execution_count": 119,
   "metadata": {},
   "outputs": [],
   "source": [
    "## store it for deployement ##\n",
    "\n",
    "#vectorestore.save_local(\"faiss_vectorestore_solvency\")\n",
    "#vectorestore = FAISS.load_local(\"faiss_vectorestore_solvency\", OllamaEmbeddings(model=\"llama3.1\"))"
   ]
  },
  {
   "cell_type": "code",
   "execution_count": 195,
   "metadata": {},
   "outputs": [],
   "source": [
    "retriever = vectorestore.as_retriever(search_type = 'similarity', search_kwargs={\"k\":20})\n",
    "#retriever = vectorestore.as_retriever(search_type = 'mmr', search_kwargs={\"fetch_k\":100})\n",
    "#retriever = vectorestore.as_retriever(search_type = 'similarity_score_threshold', search_kwargs={\"score_threshold\":0.1})"
   ]
  },
  {
   "cell_type": "code",
   "execution_count": 196,
   "metadata": {},
   "outputs": [],
   "source": [
    "llm = Ollama(model='llama3.1')\n",
    "\n",
    "prompt_template=\"\"\"\n",
    "Use the following piece of context to answer the question asked.\n",
    "You have to provide the answer only based on the context.\n",
    "If you don't find any satisfying answer based on the context just answer : \"The database will soon be up to date\" without adding suggestion.\n",
    "\n",
    "{context}\n",
    "Question:{question}\n",
    "\n",
    "Helpful Answers:\n",
    " \"\"\"\n",
    "\n",
    "prompt = PromptTemplate(template = prompt_template, input_variables=[\"context\",\"question\"])\n",
    "\n"
   ]
  },
  {
   "cell_type": "code",
   "execution_count": 197,
   "metadata": {},
   "outputs": [],
   "source": [
    "retrievalQA=RetrievalQA.from_chain_type(\n",
    "    llm=llm,\n",
    "    chain_type=\"stuff\",\n",
    "    retriever=retriever,\n",
    "    return_source_documents=True,\n",
    "    chain_type_kwargs={\"prompt\":prompt}\n",
    ")"
   ]
  },
  {
   "cell_type": "code",
   "execution_count": 198,
   "metadata": {},
   "outputs": [],
   "source": [
    "queries=[\"\"\"What is SCR ?\"\"\",\"\"\"Why do we need SCR ?\"\"\",\"\"\"How to calculate SCR ?\"\"\"]"
   ]
  },
  {
   "cell_type": "code",
   "execution_count": 199,
   "metadata": {},
   "outputs": [],
   "source": [
    "result = []\n",
    "for query in queries:\n",
    "    result.append(retrievalQA.invoke({\"query\": query}))\n"
   ]
  },
  {
   "cell_type": "code",
   "execution_count": 200,
   "metadata": {},
   "outputs": [
    {
     "name": "stdout",
     "output_type": "stream",
     "text": [
      "Query :  What is SCR ?\n",
      "Result :  Based on the provided text, it appears that you're referring to a series of questions related to insurance reporting and regulatory frameworks.\n",
      "\n",
      "The questions are:\n",
      "\n",
      "1. What changes should be made to bring together various layers of insurance reporting (Solvency II templates, National Specific Templates, supervisory statements, and ad hoc requests) to create a more coherent reporting framework?\n",
      "2. What issues arise for insurance firms from the switch from LIBOR to OIS rates, and how should these issues be addressed?\n",
      "3. What changes should be made to the eligibility of assets for the matching adjustment?\n",
      "4. What changes should be made to the calculation of the matching adjustment?\n",
      "5. What changes should be made to the matching adjustment approval process?\n",
      "\n",
      "And finally:\n",
      "\n",
      "6. What is SCR (Solvency Capital Requirement)?\n",
      "\n",
      "SCR stands for Solvency Capital Requirement, which is a regulatory capital requirement that insurance companies must meet to ensure their solvency and financial stability.\n",
      "\n",
      "Let me know if you'd like me to elaborate on any of these questions!\n",
      "\n",
      "Query :  Why do we need SCR ?\n",
      "Result :  The text doesn't explicitly answer this question, but based on the context, I can provide an inference.\n",
      "\n",
      "SCR (Solvency Capital Requirement) is a key component in the prudential regulatory regime for insurance companies. The mention of Solvency II and the Insurance Capital Standard (ICS) implies that SCR is crucial for ensuring the solvency and stability of the insurance sector.\n",
      "\n",
      "Based on this, I can infer that we need SCR to:\n",
      "\n",
      "* Ensure that insurance companies have sufficient capital to cover their liabilities and risks\n",
      "* Prevent insurer insolvency and protect policyholders' interests\n",
      "* Facilitate a level playing field among insurance companies operating within or across countries\n",
      "\n",
      "In essence, SCR is essential for maintaining the trustworthiness of the insurance sector as a whole.\n",
      "\n",
      "Query :  How to calculate SCR ?\n",
      "Result :  According to the text, there are different ways to calculate SCR (Solvency Capital Requirement), which includes:\n",
      "\n",
      "1. **Standard Formula**: This is a prescriptive approach that uses a set formula to calculate SCR.\n",
      "2. **Internal Model**: An insurance firm can develop its own internal model to calculate SCR, but this requires approval from the regulator and may be subject to certain rules and standards.\n",
      "3. **Partial Internal Model**: A firm can use a partial internal model for some risk components, while using the standard formula for others.\n",
      "4. **Method 2 (Deduction and Aggregation Method)**: This method involves deducting the SCR of individual entities from the consolidated group's SCR, rather than consolidating them.\n",
      "\n",
      "Note that these different approaches may have implications for diversification benefits and potential double-counting of risks, as mentioned in the text.\n",
      "\n"
     ]
    }
   ],
   "source": [
    "for res in result:\n",
    "    print('Query : ' , res['query'])\n",
    "    print('Result : ' , res['result'])\n",
    "    print(\"\")\n"
   ]
  },
  {
   "cell_type": "code",
   "execution_count": 201,
   "metadata": {},
   "outputs": [],
   "source": [
    "query = \"\"\" Can you tell me what is the Interest rate risk?\"\"\""
   ]
  },
  {
   "cell_type": "code",
   "execution_count": 202,
   "metadata": {},
   "outputs": [
    {
     "name": "stdout",
     "output_type": "stream",
     "text": [
      "Based on the provided text, I will attempt to answer your question about interest rate risk.\n",
      "\n",
      "**Interest Rate Risk**\n",
      "\n",
      "According to the text, one of the aspects being reviewed as part of the Solvency II review is the current design of the **risk margin**, which includes the impact of the current discount rate curve used in the UK (based on market rates for 50 years) versus other currencies like the Euro (using only 20 years of data). This leads to lower long-term discount rates in the UK relative to other currencies.\n",
      "\n",
      "The text also mentions that insurance firms currently use **discount curves based on LIBOR** to value their liabilities, but with LIBOR expected to cease publication at the end of 2021 and be replaced by Overnight Indexed Swap (OIS) rates. This transition from LIBOR to OIS rates is being consulted upon for potential issues arising for insurance firms.\n",
      "\n",
      "While not explicitly stated as \"Interest Rate Risk\", the context suggests that changes in interest rates or their valuation methodologies could have implications for insurance companies, affecting their risk assessment and capital requirements under Solvency II.\n",
      "\n",
      "If you would like me to elaborate on any of these points or provide additional information, please let me know!\n"
     ]
    }
   ],
   "source": [
    "res = retrievalQA.invoke({\"query\": query})\n",
    "print(res['result'])"
   ]
  },
  {
   "cell_type": "code",
   "execution_count": null,
   "metadata": {},
   "outputs": [],
   "source": []
  }
 ],
 "metadata": {
  "kernelspec": {
   "display_name": "langchainapp",
   "language": "python",
   "name": "python3"
  },
  "language_info": {
   "codemirror_mode": {
    "name": "ipython",
    "version": 3
   },
   "file_extension": ".py",
   "mimetype": "text/x-python",
   "name": "python",
   "nbconvert_exporter": "python",
   "pygments_lexer": "ipython3",
   "version": "3.11.4"
  }
 },
 "nbformat": 4,
 "nbformat_minor": 2
}
